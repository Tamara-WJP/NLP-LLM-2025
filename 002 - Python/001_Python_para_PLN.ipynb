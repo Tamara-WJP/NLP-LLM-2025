{
  "nbformat": 4,
  "nbformat_minor": 0,
  "metadata": {
    "colab": {
      "provenance": []
    },
    "kernelspec": {
      "name": "python3",
      "display_name": "Python 3"
    },
    "language_info": {
      "name": "python"
    }
  },
  "cells": [
    {
      "cell_type": "markdown",
      "source": [
        "# Clase 1: Fundamentos de Python 🐍 - Herramientas para Lingüistica Computacional\n",
        "\n",
        "## ¿Qué Haremos Hoy?\n",
        "1.  **Variables:** Las \"cajas\" para guardar información.\n",
        "2.  **Tipos de Datos:** ¿Qué guardamos en esas cajas? (Texto, números, etc.).\n",
        "3.  **Operadores:** Cómo hacer cosas con nuestros datos.\n",
        "4.  **Condicionales:** Cómo hacer que nuestro programa tome decisiones."
      ],
      "metadata": {
        "id": "bMcPd2LD9VwQ"
      }
    },
    {
      "cell_type": "markdown",
      "source": [
        "## 1. Variables: Nuestras \"Cajas\" con Nombre\n",
        "\n",
        "Una variable es simplemente un contenedor donde guardamos un dato para usarlo más tarde. Le damos un nombre para poder referirnos a ella.\n",
        "\n",
        "**Reglas para los nombres:**\n",
        "* No pueden empezar con un número.\n",
        "* No pueden tener espacios (usa `_` en su lugar, como `mi_variable`).\n",
        "* No uses palabras que Python ya reserva para sí mismo (como `print`, `if`, etc.)."
      ],
      "metadata": {
        "id": "zFUI8wiM9nGf"
      }
    },
    {
      "cell_type": "code",
      "execution_count": 1,
      "metadata": {
        "id": "cUYvVTt285o9",
        "colab": {
          "base_uri": "https://localhost:8080/"
        },
        "outputId": "974e13e4-e6bf-4d04-d82d-dfae53590094"
      },
      "outputs": [
        {
          "output_type": "stream",
          "name": "stdout",
          "text": [
            "Hola, mundo del PLN!\n"
          ]
        }
      ],
      "source": [
        "# Creamos nuestra primera variable.\n",
        "# La variable se llama 'saludo' y contiene el texto \"Hola, mundo del PLN!\"\n",
        "saludo = \"Hola, mundo del PLN!\"\n",
        "\n",
        "# Usamos la función print() para mostrar lo que hay dentro de nuestra variable.\n",
        "print(saludo)"
      ]
    },
    {
      "cell_type": "code",
      "source": [
        "saludo_uno = \"Hola\""
      ],
      "metadata": {
        "id": "t-zzh_OMapcY"
      },
      "execution_count": null,
      "outputs": []
    },
    {
      "cell_type": "code",
      "source": [
        "print(saludo_uno)"
      ],
      "metadata": {
        "colab": {
          "base_uri": "https://localhost:8080/"
        },
        "id": "A65Rf9rKa5j3",
        "outputId": "f8d92b9c-b2d8-4998-fd35-d5df53893ecc"
      },
      "execution_count": null,
      "outputs": [
        {
          "output_type": "stream",
          "name": "stdout",
          "text": [
            "Hola\n"
          ]
        }
      ]
    },
    {
      "cell_type": "markdown",
      "source": [
        "## 2. Tipos de Datos: ¿Qué hay dentro de las cajas?\n",
        "\n",
        "No todos los datos son iguales. Python distingue principalmente entre:\n",
        "\n",
        "* **String (`str`):** Texto, siempre entre comillas (`\" \"`). ¡El tipo de dato más importante para nosotros en PLN!\n",
        "* **Integer (`int`):** Números enteros (ej: `10`, `-5`).\n",
        "* **Float (`float`):** Números con decimales (ej: `3.14`).\n",
        "* **Boolean (`bool`):** Representa la verdad. Solo puede ser `True` o `False`.\n",
        "\n",
        "Para saber qué tipo de dato tiene una variable, usamos la función `type()`."
      ],
      "metadata": {
        "id": "O_Rxi4Ei-DXR"
      }
    },
    {
      "cell_type": "code",
      "source": [
        "# Variable de tipo String\n",
        "oracion = \"El análisis de texto es fascinante.\"\n",
        "\n",
        "# Variable de tipo Integer\n",
        "cantidad_de_palabras = 6\n",
        "\n",
        "# Variable de tipo Boolean\n",
        "es_interesante = True\n",
        "\n",
        "# Usemos type() para verificar\n",
        "print(type(oracion))\n",
        "print(type(cantidad_de_palabras))\n",
        "print(type(es_interesante))"
      ],
      "metadata": {
        "id": "bbpwvq56-EUs",
        "colab": {
          "base_uri": "https://localhost:8080/"
        },
        "outputId": "04b99bc8-5514-4c6b-8b3f-e2e3124efa89"
      },
      "execution_count": 2,
      "outputs": [
        {
          "output_type": "stream",
          "name": "stdout",
          "text": [
            "<class 'str'>\n",
            "<class 'int'>\n",
            "<class 'bool'>\n"
          ]
        }
      ]
    },
    {
      "cell_type": "markdown",
      "source": [
        "> **Nota importante:** ¿Por qué nos importa el tipo de dato? Porque define qué operaciones podemos hacer. Por ejemplo, podemos `sumar` dos números, pero no podemos `dividir` un texto. `type()` es nuestro mejor amigo para no cometer errores."
      ],
      "metadata": {
        "id": "_ZuECWbWCoj2"
      }
    },
    {
      "cell_type": "markdown",
      "source": [
        "## 3. Operadores: Haciendo Cosas con los Datos\n",
        "\n",
        "Podemos combinar y comparar nuestras variables usando operadores.\n",
        "\n",
        "* **Operador `+` con texto:** Une (concatena) dos strings.\n",
        "* **Operadores de comparación (`==`, `!=`):** Preguntan si dos valores son iguales o diferentes. ¡Siempre devuelven un Booleano (`True` o `False`)!"
      ],
      "metadata": {
        "id": "exBYLuph-W_S"
      }
    },
    {
      "cell_type": "code",
      "source": [
        "palabra1 = \"procesamiento\"\n",
        "palabra2 = \"lenguaje\"\n",
        "\n",
        "# Unimos las palabras con un espacio en medio\n",
        "frase_completa = palabra1 + \" de \" + palabra2\n",
        "print(frase_completa)"
      ],
      "metadata": {
        "id": "Ou-tiI5F-Xzj",
        "colab": {
          "base_uri": "https://localhost:8080/"
        },
        "outputId": "148f4ad0-8ebb-4ab2-9493-22fef20960e6"
      },
      "execution_count": null,
      "outputs": [
        {
          "output_type": "stream",
          "name": "stdout",
          "text": [
            "procesamiento de lenguaje\n"
          ]
        }
      ]
    },
    {
      "cell_type": "code",
      "source": [
        "print(palabra1, 'de', palabra2)"
      ],
      "metadata": {
        "colab": {
          "base_uri": "https://localhost:8080/"
        },
        "id": "3xCqL7iOciMp",
        "outputId": "333b4ec6-af8b-42ca-a4ad-75ac65b77ae6"
      },
      "execution_count": null,
      "outputs": [
        {
          "output_type": "stream",
          "name": "stdout",
          "text": [
            "procesamiento de lenguaje\n"
          ]
        }
      ]
    },
    {
      "cell_type": "code",
      "source": [
        "palabra3 = \"Procesamiento\""
      ],
      "metadata": {
        "id": "K5KAkst4c_2Q"
      },
      "execution_count": null,
      "outputs": []
    },
    {
      "cell_type": "code",
      "source": [
        "palabra1 == palabra3"
      ],
      "metadata": {
        "colab": {
          "base_uri": "https://localhost:8080/"
        },
        "id": "yfeKFaUbc5EW",
        "outputId": "6c242e62-a4d7-4a29-9b95-147451be608f"
      },
      "execution_count": null,
      "outputs": [
        {
          "output_type": "execute_result",
          "data": {
            "text/plain": [
              "False"
            ]
          },
          "metadata": {},
          "execution_count": 12
        }
      ]
    },
    {
      "cell_type": "code",
      "source": [
        "# Comparemos dos números\n",
        "numero_a = 10\n",
        "numero_b = 20\n",
        "print(\"¿Son iguales numero_a y numero_b?\")\n",
        "print(numero_a == numero_b) # Esto imprimirá False"
      ],
      "metadata": {
        "id": "jz5Q8KEy-icx",
        "colab": {
          "base_uri": "https://localhost:8080/"
        },
        "outputId": "8f534f89-7037-420d-9d28-6c83afe8df11"
      },
      "execution_count": null,
      "outputs": [
        {
          "output_type": "stream",
          "name": "stdout",
          "text": [
            "¿Son iguales numero_a y numero_b?\n",
            "False\n"
          ]
        }
      ]
    },
    {
      "cell_type": "markdown",
      "source": [
        "## 4. Condicionales: Tomando Decisiones\n",
        "\n",
        "Los condicionales `if`, `elif` y `else` permiten que nuestro programa ejecute cierto código solo si se cumple una condición.\n",
        "\n",
        "La **indentación** (el espacio al principio de la línea) es MUY importante. Le dice a Python qué código pertenece al `if`."
      ],
      "metadata": {
        "id": "w_sby7GP-pUG"
      }
    },
    {
      "cell_type": "code",
      "source": [
        "# Pedimos al usuario que escriba una palabra\n",
        "palabra_usuario = input(\"Escribí una palabra clave (ej: Python): \")\n",
        "\n",
        "# El programa decide qué hacer basándose en la palabra\n",
        "if palabra_usuario == \"Python\":\n",
        "    print(\"¡Genial! Ese es el lenguaje que estamos aprendiendo.\")\n",
        "else:\n",
        "    print(\"Esa es una palabra interesante, ¡pero no es Python!\")"
      ],
      "metadata": {
        "id": "V8Bh9fCP-o6F"
      },
      "execution_count": null,
      "outputs": []
    },
    {
      "cell_type": "code",
      "source": [
        "variable_tmp = float(input('Ingresá un numero del 1 al 10: '))"
      ],
      "metadata": {
        "colab": {
          "base_uri": "https://localhost:8080/"
        },
        "id": "YZ0jNGhHdrKA",
        "outputId": "6ddbb010-8ec7-4436-973b-52fbd371ba90"
      },
      "execution_count": null,
      "outputs": [
        {
          "name": "stdout",
          "output_type": "stream",
          "text": [
            "Ingresá un numero del 1 al 10: 2\n"
          ]
        }
      ]
    },
    {
      "cell_type": "code",
      "source": [
        "type(variable_tmp)"
      ],
      "metadata": {
        "colab": {
          "base_uri": "https://localhost:8080/"
        },
        "id": "w9Mznftcd2kE",
        "outputId": "f88be3e2-ac6e-494a-a8c1-a3a437be4f70"
      },
      "execution_count": null,
      "outputs": [
        {
          "output_type": "execute_result",
          "data": {
            "text/plain": [
              "float"
            ]
          },
          "metadata": {},
          "execution_count": 19
        }
      ]
    },
    {
      "cell_type": "markdown",
      "source": [
        "## Ejercicio Práctico 1: Analizador Simple de Frases\n",
        "\n",
        "> Añadir blockquote\n",
        "\n",
        "\n",
        "\n",
        "¡Es hora de poner a prueba lo que aprendimos! Vamos a crear un programa que analice una frase que ingrese el usuario y nos diga algunas cosas sobre ella.\n",
        "\n",
        "**Consigna:**\n",
        "\n",
        "1.  Pedí al usuario que ingrese una frase usando `input()`.\n",
        "2.  Verifica si la palabra \"Python\" está en la frase.\n",
        "3.  Verifica si la frase es corta (menos de 20 caracteres) o larga.\n",
        "4.  Imprimí un mensaje diferente para cada caso."
      ],
      "metadata": {
        "id": "h7g9LYwVC24X"
      }
    },
    {
      "cell_type": "code",
      "source": [
        "# 1. Pedí al usuario que ingrese una frase\n",
        "frase_usuario = input(\"Por favor, ingresa una frase: \")\n",
        "\n",
        "# Medí la longitud de la frase\n",
        "longitud_frase = len(frase_usuario)\n",
        "\n",
        "print(f\"La frase tiene {longitud_frase} caracteres.\")"
      ],
      "metadata": {
        "id": "lKxdo_nhDJbu"
      },
      "execution_count": null,
      "outputs": []
    },
    {
      "cell_type": "code",
      "source": [
        "# 2. Revisá las condiciones con if/elif/else\n",
        "# ¡Tu código va acá!"
      ],
      "metadata": {
        "id": "LDS6aD-9fFpi"
      },
      "execution_count": null,
      "outputs": []
    },
    {
      "cell_type": "code",
      "source": [
        "# Pista: Podes usar el operador 'in' para ver si un texto está dentro de otro.\n",
        "# Ejemplo: if \"palabra\" in mi_frase:\n",
        "\n",
        "if \"Python\" in frase_usuario:\n",
        "    print(\"¡Excelente! Tu frase menciona nuestro lenguaje de programación favorito.\")\n",
        "elif longitud_frase < 20:\n",
        "    print(\"Es una frase corta, ¡directa al punto!\")\n",
        "else:\n",
        "    print(\"Una frase interesante y de buena longitud.\")"
      ],
      "metadata": {
        "id": "1akwRHG_fBr1"
      },
      "execution_count": null,
      "outputs": []
    },
    {
      "cell_type": "markdown",
      "source": [
        "## 5. Estructuras de Datos: Organizando nuestra Información\n",
        "\n",
        "En PLN, necesitamos manejar colecciones de datos. Python nos ofrece varias formas de hacerlo:\n",
        "\n",
        "* **Listas (`list`):** Colecciones ordenadas y modificables de elementos.\n",
        "* **Tuplas (`tuple`):** Colecciones ordenadas pero INMODIFICABLES de elementos.\n",
        "* **Diccionarios (`dict`):** Colecciones de pares clave-valor (como un diccionario real)."
      ],
      "metadata": {
        "id": "so0HNyTN_eXZ"
      }
    },
    {
      "cell_type": "code",
      "source": [
        "# Listas (pueden modificarse)\n",
        "palabras = ['hola', 'mundo', 'nlp', 'python']\n",
        "print(\"Lista original:\", palabras)"
      ],
      "metadata": {
        "id": "q7shxpkD_fN3",
        "colab": {
          "base_uri": "https://localhost:8080/"
        },
        "outputId": "a0b61a73-b6b8-4d17-b5f2-37d8a2f819e6"
      },
      "execution_count": 7,
      "outputs": [
        {
          "output_type": "stream",
          "name": "stdout",
          "text": [
            "Lista original: ['hola', 'mundo', 'nlp', 'python']\n"
          ]
        }
      ]
    },
    {
      "cell_type": "code",
      "source": [
        "# Agregar elemento\n",
        "palabras.append('texto')\n",
        "print(\"Después de append:\", palabras)"
      ],
      "metadata": {
        "id": "4c0F3mQD_p0S",
        "colab": {
          "base_uri": "https://localhost:8080/"
        },
        "outputId": "b0c842c6-e4c5-4693-8919-b3c0bac83cc9"
      },
      "execution_count": 8,
      "outputs": [
        {
          "output_type": "stream",
          "name": "stdout",
          "text": [
            "Después de append: ['hola', 'mundo', 'nlp', 'python', 'texto']\n"
          ]
        }
      ]
    },
    {
      "cell_type": "code",
      "source": [
        "# Remover elemento\n",
        "palabras.remove('mundo')\n",
        "print(\"Después de remove:\", palabras)"
      ],
      "metadata": {
        "id": "OB0sWF_b_puE",
        "colab": {
          "base_uri": "https://localhost:8080/"
        },
        "outputId": "b68e9b30-5f49-40f2-f6ba-f3658b366522"
      },
      "execution_count": 9,
      "outputs": [
        {
          "output_type": "stream",
          "name": "stdout",
          "text": [
            "Después de remove: ['hola', 'nlp', 'python', 'texto']\n"
          ]
        }
      ]
    },
    {
      "cell_type": "code",
      "source": [
        "# Acceder por índice\n",
        "print(\"Primera palabra:\", palabras[0])\n",
        "print(\"Última palabra:\", palabras[-1])"
      ],
      "metadata": {
        "id": "GmpBmkTF_pnC",
        "colab": {
          "base_uri": "https://localhost:8080/"
        },
        "outputId": "e7d47051-d116-4e22-a32b-f2d9e5b6275b"
      },
      "execution_count": 10,
      "outputs": [
        {
          "output_type": "stream",
          "name": "stdout",
          "text": [
            "Primera palabra: hola\n",
            "Última palabra: texto\n"
          ]
        }
      ]
    },
    {
      "cell_type": "code",
      "source": [
        "# Tuplas (NO pueden modificarse)\n",
        "coordenadas = (4, 5)\n",
        "colores = ('rojo', 'verde', 'azul')\n",
        "\n",
        "print(\"Tupla de coordenadas:\", coordenadas)\n",
        "print(\"Segundo color:\", colores[1])"
      ],
      "metadata": {
        "id": "cveEdpXe_0bC",
        "colab": {
          "base_uri": "https://localhost:8080/"
        },
        "outputId": "426dda71-5806-4015-ae9e-fb892d5b433d"
      },
      "execution_count": 11,
      "outputs": [
        {
          "output_type": "stream",
          "name": "stdout",
          "text": [
            "Tupla de coordenadas: (4, 5)\n",
            "Segundo color: verde\n"
          ]
        }
      ]
    },
    {
      "cell_type": "code",
      "source": [
        "# Esto causaría un error:\n",
        "colores[1] = 'amarillo'  # Descomenta para ver el error"
      ],
      "metadata": {
        "id": "OOe7sJu-_-Ok",
        "colab": {
          "base_uri": "https://localhost:8080/",
          "height": 159
        },
        "outputId": "d2e70f1d-c14a-4aa9-e7a2-509fa23be2fb"
      },
      "execution_count": 13,
      "outputs": [
        {
          "output_type": "error",
          "ename": "TypeError",
          "evalue": "'tuple' object does not support item assignment",
          "traceback": [
            "\u001b[0;31m---------------------------------------------------------------------------\u001b[0m",
            "\u001b[0;31mTypeError\u001b[0m                                 Traceback (most recent call last)",
            "\u001b[0;32m/tmp/ipython-input-4246481619.py\u001b[0m in \u001b[0;36m<cell line: 0>\u001b[0;34m()\u001b[0m\n\u001b[1;32m      1\u001b[0m \u001b[0;31m# Esto causaría un error:\u001b[0m\u001b[0;34m\u001b[0m\u001b[0;34m\u001b[0m\u001b[0m\n\u001b[0;32m----> 2\u001b[0;31m \u001b[0mcolores\u001b[0m\u001b[0;34m[\u001b[0m\u001b[0;36m1\u001b[0m\u001b[0;34m]\u001b[0m \u001b[0;34m=\u001b[0m \u001b[0;34m'amarillo'\u001b[0m  \u001b[0;31m# Descomenta para ver el error\u001b[0m\u001b[0;34m\u001b[0m\u001b[0;34m\u001b[0m\u001b[0m\n\u001b[0m",
            "\u001b[0;31mTypeError\u001b[0m: 'tuple' object does not support item assignment"
          ]
        }
      ]
    },
    {
      "cell_type": "code",
      "source": [
        "# Diccionarios (clave-valor)\n",
        "frecuencia_palabras = {'python': 15,\n",
        "                       'nlp': 23,\n",
        "                       'texto': 42}\n",
        "print(\"Diccionario original:\", frecuencia_palabras)"
      ],
      "metadata": {
        "id": "eZekMeklAIe7",
        "colab": {
          "base_uri": "https://localhost:8080/"
        },
        "outputId": "de279ef9-f23f-45df-a8b3-9e288bea339d"
      },
      "execution_count": 14,
      "outputs": [
        {
          "output_type": "stream",
          "name": "stdout",
          "text": [
            "Diccionario original: {'python': 15, 'nlp': 23, 'texto': 42}\n"
          ]
        }
      ]
    },
    {
      "cell_type": "code",
      "source": [
        "# Agregar nueva entrada\n",
        "frecuencia_palabras['datos'] = 18\n",
        "print(\"Después de agregar 'datos':\", frecuencia_palabras)"
      ],
      "metadata": {
        "id": "QUZQdodwAKrV",
        "colab": {
          "base_uri": "https://localhost:8080/"
        },
        "outputId": "94efbec5-3505-4c86-dd28-1ae2fc826adb"
      },
      "execution_count": 15,
      "outputs": [
        {
          "output_type": "stream",
          "name": "stdout",
          "text": [
            "Después de agregar 'datos': {'python': 15, 'nlp': 23, 'texto': 42, 'datos': 18}\n"
          ]
        }
      ]
    },
    {
      "cell_type": "code",
      "source": [
        "# Acceder a valores\n",
        "print(\"Frecuencia de 'nlp':\", frecuencia_palabras.get('nlp', 0))\n",
        "print(\"Frecuencia de palabra inexistente:\", frecuencia_palabras.get('inexistente', 0))"
      ],
      "metadata": {
        "id": "SjuSdoBDAKnt",
        "colab": {
          "base_uri": "https://localhost:8080/"
        },
        "outputId": "4b3de205-4d20-4571-9071-9fbd252669d9"
      },
      "execution_count": 16,
      "outputs": [
        {
          "output_type": "stream",
          "name": "stdout",
          "text": [
            "Frecuencia de 'nlp': 23\n",
            "Frecuencia de palabra inexistente: 0\n"
          ]
        }
      ]
    },
    {
      "cell_type": "code",
      "source": [
        "# Condicionales con estructuras de datos\n",
        "texto = \"Python es excelente para NLP\"\n",
        "palabras_texto = texto.split()"
      ],
      "metadata": {
        "id": "JpoRqGReAk_G"
      },
      "execution_count": 17,
      "outputs": []
    },
    {
      "cell_type": "code",
      "source": [
        "palabras_texto"
      ],
      "metadata": {
        "colab": {
          "base_uri": "https://localhost:8080/"
        },
        "id": "No_PDZGinbww",
        "outputId": "14030487-8740-4868-d068-4c40ede4c0d0"
      },
      "execution_count": null,
      "outputs": [
        {
          "output_type": "execute_result",
          "data": {
            "text/plain": [
              "['Python', 'es', 'excelente', 'para', 'NLP']"
            ]
          },
          "metadata": {},
          "execution_count": 34
        }
      ]
    },
    {
      "cell_type": "code",
      "source": [
        "if len(palabras_texto) > 3:\n",
        "    print(\"El texto tiene más de 3 palabras\")\n",
        "    if \"NLP\" in palabras_texto:\n",
        "        print(\"Y además menciona NLP!\")\n",
        "elif \"Python\" in palabras_texto:\n",
        "    print(\"El texto menciona Python\")\n",
        "else:\n",
        "    print(\"Texto corto sin palabras clave reconocidas\")"
      ],
      "metadata": {
        "colab": {
          "base_uri": "https://localhost:8080/"
        },
        "id": "D1aiDYFWnV0C",
        "outputId": "cb7f4a34-2c2a-46ad-e1b3-353b97c98df6"
      },
      "execution_count": null,
      "outputs": [
        {
          "output_type": "stream",
          "name": "stdout",
          "text": [
            "El texto tiene más de 3 palabras\n",
            "Y además menciona NLP!\n"
          ]
        }
      ]
    },
    {
      "cell_type": "code",
      "source": [
        "# Bucles para procesar listas\n",
        "texto = \"Python es un lenguaje de programación ampliamente utilizado en PLN\"\n",
        "\n",
        "print(\"Palabras largas en el texto:\")\n",
        "for palabra in texto.split():\n",
        "    if len(palabra) > 5:  # Palabras de más de 5 letras\n",
        "        print(f\"- {palabra} ({len(palabra)} letras)\")"
      ],
      "metadata": {
        "id": "BdwBJqW2Aypa",
        "colab": {
          "base_uri": "https://localhost:8080/"
        },
        "outputId": "2b385326-05b9-4523-fb1b-cf86a1ec632f"
      },
      "execution_count": null,
      "outputs": [
        {
          "output_type": "stream",
          "name": "stdout",
          "text": [
            "Palabras largas en el texto:\n",
            "- Python (6 letras)\n",
            "- lenguaje (8 letras)\n",
            "- programación (12 letras)\n",
            "- ampliamente (11 letras)\n",
            "- utilizado (9 letras)\n"
          ]
        }
      ]
    },
    {
      "cell_type": "markdown",
      "source": [
        "##Ejercicio Practico 2"
      ],
      "metadata": {
        "id": "E9DyAER9BFkN"
      }
    },
    {
      "cell_type": "code",
      "source": [
        "# Ejercicio: Contador de palabras\n",
        "texto = \"Python es un lenguaje de programación ampliamente utilizado en el procesamiento del lenguaje natural\"\n",
        "\n",
        "# Tu código acá:\n",
        "\n",
        "# 1. Convertir texto a minúsculas\n",
        "minusculas = texto.lower()\n",
        "print(\"-\", minusculas)\n",
        "print()\n",
        "\n",
        "# 2. Dividir en palabras\n",
        "dividir = minusculas.split()\n",
        "print(\"-\",dividir)\n",
        "print()\n",
        "\n",
        "# 3. Contar frecuencia de cada palabra\n",
        "frecuencia = {}\n",
        "for palabra in dividir:\n",
        "    if palabra in frecuencia:\n",
        "        frecuencia[palabra] += 1\n",
        "    else:\n",
        "        frecuencia[palabra] = 1\n",
        "\n",
        "print(\"-\", frecuencia)\n",
        "\n",
        "# print(\"¡Intenta resolver este ejercicio!\")"
      ],
      "metadata": {
        "id": "yrTDTtQOBGEN",
        "colab": {
          "base_uri": "https://localhost:8080/"
        },
        "outputId": "1fad95a5-316a-4860-8901-c8aef5d4e658"
      },
      "execution_count": 34,
      "outputs": [
        {
          "output_type": "stream",
          "name": "stdout",
          "text": [
            "- python es un lenguaje de programación ampliamente utilizado en el procesamiento del lenguaje natural\n",
            "\n",
            "- ['python', 'es', 'un', 'lenguaje', 'de', 'programación', 'ampliamente', 'utilizado', 'en', 'el', 'procesamiento', 'del', 'lenguaje', 'natural']\n",
            "\n",
            "- {'python': 1, 'es': 1, 'un': 1, 'lenguaje': 2, 'de': 1, 'programación': 1, 'ampliamente': 1, 'utilizado': 1, 'en': 1, 'el': 1, 'procesamiento': 1, 'del': 1, 'natural': 1}\n"
          ]
        }
      ]
    },
    {
      "cell_type": "markdown",
      "source": [
        "---\n",
        "## Glosario Rápido de la Clase 1\n",
        "\n",
        "* **Variable**: Un nombre que usamos para guardar un valor en la memoria del programa.\n",
        "* **String (`str`)**: Un tipo de dato que representa texto. Se define con comillas (`\"hola\"`).\n",
        "* **Integer (`int`)**: Tipo de dato para números enteros, sin decimales (ej: `10`, `-3`).\n",
        "* **Float (`float`)**: Tipo de dato para números con decimales (ej: `9.5`, `3.1416`).\n",
        "* **Boolean (`bool`)**: Un tipo de dato que solo tiene dos valores posibles: `True` (verdadero) o `False` (falso).\n",
        "* **Operador**: Un símbolo que realiza una acción, como `+` para unir texto o `==` para comparar si dos cosas son iguales.\n",
        "* **Condicional (`if`, `elif`, `else`)**: Una estructura que le permite a tu programa tomar decisiones y ejecutar diferentes bloques de código según se cumpla o no una condición.\n",
        "* **Indentación**: Los espacios al principio de una línea. En Python, es fundamental y define qué código pertenece a un `if`, un bucle, etc.\n",
        "* **Función**: Un bloque de código con nombre que realiza una tarea específica (ej: `print()`, `len()`, `type()`).\n",
        "---"
      ],
      "metadata": {
        "id": "b-W8YA1pDffS"
      }
    }
  ]
}