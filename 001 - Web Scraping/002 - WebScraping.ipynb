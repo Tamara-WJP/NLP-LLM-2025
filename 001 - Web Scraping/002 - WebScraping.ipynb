{
  "cells": [
    {
      "cell_type": "markdown",
      "metadata": {
        "id": "vh_Bs4XdeRzQ"
      },
      "source": [
        "# Web Scraping con [Beautiful Soup](https://www.crummy.com/software/BeautifulSoup/bs4/doc/), una libreria de python\n",
        "<br><br>"
      ]
    },
    {
      "cell_type": "code",
      "source": [
        "# 2. Importamos las bibliotecas\n",
        "import requests\n",
        "from bs4 import BeautifulSoup"
      ],
      "metadata": {
        "id": "iBAMi0e6GVEM"
      },
      "execution_count": 1,
      "outputs": []
    },
    {
      "cell_type": "code",
      "source": [
        "# 3. Definimos la página web que queremos analizar\n",
        "url = \"https://stackoverflow.com/questions/394809/does-python-have-a-ternary-conditional-operator\""
      ],
      "metadata": {
        "id": "r_6Ko39zGXOH"
      },
      "execution_count": 14,
      "outputs": []
    },
    {
      "cell_type": "code",
      "source": [
        "# 4. Obtenemos el contenido de la página web\n",
        "pagina = requests.get(url)\n",
        "contenido = pagina.text"
      ],
      "metadata": {
        "id": "Vky0x1eVGXGg"
      },
      "execution_count": 15,
      "outputs": []
    },
    {
      "cell_type": "code",
      "source": [
        "# 5. Creamos el objeto BeautifulSoup para analizar el HTML\n",
        "soup = BeautifulSoup(contenido, 'html.parser')"
      ],
      "metadata": {
        "id": "1oiv5zeRGW6F"
      },
      "execution_count": 16,
      "outputs": []
    },
    {
      "cell_type": "code",
      "source": [
        "# 6. Extraemos información básica\n",
        "# Obtenemos el título de la página\n",
        "print(\"TÍTULO DE LA PÁGINA:\")\n",
        "print(soup.title.text)\n",
        "print(\"-\" * 50)"
      ],
      "metadata": {
        "colab": {
          "base_uri": "https://localhost:8080/"
        },
        "id": "iaQMbVq1Ge8S",
        "outputId": "66fb3952-5b90-4f43-f09a-cf1464e0cc27"
      },
      "execution_count": 17,
      "outputs": [
        {
          "output_type": "stream",
          "name": "stdout",
          "text": [
            "TÍTULO DE LA PÁGINA:\n",
            "Does Python have a ternary conditional operator? - Stack Overflow\n",
            "--------------------------------------------------\n"
          ]
        }
      ]
    },
    {
      "cell_type": "code",
      "source": [
        "# 7. Extraemos la pregunta\n",
        "print(\"\\nPREGUNTA:\")\n",
        "pregunta = soup.find(\"div\", {\"class\": \"question\"})\n",
        "texto_pregunta = pregunta.find(\"div\", {\"class\": \"s-prose js-post-body\"}).find(\"p\")\n",
        "print(texto_pregunta.get_text().strip())\n",
        "print(\"-\" * 50)"
      ],
      "metadata": {
        "colab": {
          "base_uri": "https://localhost:8080/"
        },
        "id": "-mX59zYXGe4M",
        "outputId": "16fe33af-0ff7-440b-9297-abeab7885694"
      },
      "execution_count": 20,
      "outputs": [
        {
          "output_type": "stream",
          "name": "stdout",
          "text": [
            "\n",
            "PREGUNTA:\n",
            "Is there a ternary conditional operator in Python?\n",
            "--------------------------------------------------\n"
          ]
        }
      ]
    },
    {
      "cell_type": "code",
      "source": [
        "# 8. Extraemos la mejor respuesta\n",
        "print(\"\\nMEJOR RESPUESTA:\")\n",
        "respuesta = soup.find(\"div\", {\"class\": \"answer\"})\n",
        "texto_respuesta = respuesta.find(\"div\", {\"class\": \"s-prose js-post-body\"})\n",
        "print(texto_respuesta.get_text().strip())"
      ],
      "metadata": {
        "colab": {
          "base_uri": "https://localhost:8080/"
        },
        "id": "J39MsXf-GeyW",
        "outputId": "5a2c33d2-c61d-4c38-8d10-7e19984f0ed0"
      },
      "execution_count": 19,
      "outputs": [
        {
          "output_type": "stream",
          "name": "stdout",
          "text": [
            "\n",
            "MEJOR RESPUESTA:\n",
            "Yes, it was added in version 2.5. The expression syntax is:\n",
            "a if condition else b\n",
            "\n",
            "First condition is evaluated, then exactly one of either a or b is evaluated and returned based on the Boolean value of condition. If condition evaluates to True, then a is evaluated and returned but b is ignored, or else when b is evaluated and returned but a is ignored.\n",
            "This allows short-circuiting because when condition is true only a is evaluated and b is not evaluated at all, but when condition is false only b is evaluated and a is not evaluated at all.\n",
            "For example:\n",
            ">>> 'true' if True else 'false'\n",
            "'true'\n",
            ">>> 'true' if False else 'false'\n",
            "'false'\n",
            "\n",
            "Note that conditionals are an expression, not a statement. This means you can't use statements such as pass, or assignments with = (or \"augmented\" assignments like +=), within a conditional expression:\n",
            ">>> pass if False else pass\n",
            "  File \"<stdin>\", line 1\n",
            "    pass if False else pass\n",
            "         ^\n",
            "SyntaxError: invalid syntax\n",
            "\n",
            ">>> # Python parses this as `x = (1 if False else y) = 2`\n",
            ">>> # The `(1 if False else x)` part is actually valid, but\n",
            ">>> # it can't be on the left-hand side of `=`.\n",
            ">>> x = 1 if False else y = 2\n",
            "  File \"<stdin>\", line 1\n",
            "SyntaxError: cannot assign to conditional expression\n",
            "\n",
            ">>> # If we parenthesize it instead...\n",
            ">>> (x = 1) if False else (y = 2)\n",
            "  File \"<stdin>\", line 1\n",
            "    (x = 1) if False else (y = 2)\n",
            "       ^\n",
            "SyntaxError: invalid syntax\n",
            "\n",
            "(In 3.8 and above, the := \"walrus\" operator allows simple assignment of values as an expression, which is then compatible with this syntax. But please don't write code like that; it will quickly become very difficult to understand.)\n",
            "Similarly, because it is an expression, the else part is mandatory:\n",
            "# Invalid syntax: we didn't specify what the value should be if the \n",
            "# condition isn't met. It doesn't matter if we can verify that\n",
            "# ahead of time.\n",
            "a if True\n",
            "\n",
            "You can, however, use conditional expressions to assign a variable like so:\n",
            "x = a if True else b\n",
            "\n",
            "Or for example to return a value:\n",
            "# Of course we should just use the standard library `max`;\n",
            "# this is just for demonstration purposes.\n",
            "def my_max(a, b):\n",
            "    return a if a > b else b\n",
            "\n",
            "Think of the conditional expression as switching between two values. We can use it when we are in a 'one value or another' situation, where we will do the same thing with the result, regardless of whether the condition is met. We use the expression to compute the value, and then do something with it. If you need to do something different depending on the condition, then use a normal if statement instead.\n",
            "\n",
            "Keep in mind that it's frowned upon by some Pythonistas for several reasons:\n",
            "\n",
            "The order of the arguments is different from those of the classic condition ? a : b ternary operator from many other languages (such as C, C++, Go, Perl, Ruby, Java, JavaScript, etc.), which may lead to bugs when people unfamiliar with Python's \"surprising\" behaviour use it (they may reverse the argument order).\n",
            "Some find it \"unwieldy\", since it goes contrary to the normal flow of thought (thinking of the condition first and then the effects).\n",
            "Stylistic reasons. (Although the 'inline if' can be really useful, and make your script more concise, it really does complicate your code)\n",
            "\n",
            "If you're having trouble remembering the order, then remember that when read aloud, you (almost) say what you mean. For example, x = 4 if b > 8 else 9 is read aloud as x will be 4 if b is greater than 8 otherwise 9.\n",
            "Official documentation:\n",
            "\n",
            "Conditional expressions\n",
            "Is there an equivalent of C’s ”?:” ternary operator?\n"
          ]
        }
      ]
    }
  ],
  "metadata": {
    "colab": {
      "provenance": []
    },
    "kernelspec": {
      "display_name": "Python 3",
      "language": "python",
      "name": "python3"
    },
    "language_info": {
      "codemirror_mode": {
        "name": "ipython",
        "version": 3
      },
      "file_extension": ".py",
      "mimetype": "text/x-python",
      "name": "python",
      "nbconvert_exporter": "python",
      "pygments_lexer": "ipython3",
      "version": "3.7.4"
    }
  },
  "nbformat": 4,
  "nbformat_minor": 0
}