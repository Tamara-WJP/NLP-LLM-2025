{
  "nbformat": 4,
  "nbformat_minor": 0,
  "metadata": {
    "colab": {
      "provenance": []
    },
    "kernelspec": {
      "name": "python3",
      "display_name": "Python 3"
    },
    "language_info": {
      "name": "python"
    }
  },
  "cells": [
    {
      "cell_type": "code",
      "metadata": {
        "id": "2c96009f",
        "colab": {
          "base_uri": "https://localhost:8080/"
        },
        "outputId": "23254b12-d335-4c7a-988e-0bdbea6436a4"
      },
      "source": [
        "!pip install trafilatura -q"
      ],
      "execution_count": 1,
      "outputs": [
        {
          "output_type": "stream",
          "name": "stdout",
          "text": [
            "\u001b[?25l   \u001b[90m━━━━━━━━━━━━━━━━━━━━━━━━━━━━━━━━━━━━━━━━\u001b[0m \u001b[32m0.0/132.6 kB\u001b[0m \u001b[31m?\u001b[0m eta \u001b[36m-:--:--\u001b[0m\r\u001b[2K   \u001b[90m━━━━━━━━━━━━━━━━━━━━━━━━━━━━━━━━━━━━━━━━\u001b[0m \u001b[32m132.6/132.6 kB\u001b[0m \u001b[31m8.2 MB/s\u001b[0m eta \u001b[36m0:00:00\u001b[0m\n",
            "\u001b[2K   \u001b[90m━━━━━━━━━━━━━━━━━━━━━━━━━━━━━━━━━━━━━━━━\u001b[0m \u001b[32m837.9/837.9 kB\u001b[0m \u001b[31m28.9 MB/s\u001b[0m eta \u001b[36m0:00:00\u001b[0m\n",
            "\u001b[2K   \u001b[90m━━━━━━━━━━━━━━━━━━━━━━━━━━━━━━━━━━━━━━━━\u001b[0m \u001b[32m315.5/315.5 kB\u001b[0m \u001b[31m21.9 MB/s\u001b[0m eta \u001b[36m0:00:00\u001b[0m\n",
            "\u001b[2K   \u001b[90m━━━━━━━━━━━━━━━━━━━━━━━━━━━━━━━━━━━━━━━━\u001b[0m \u001b[32m274.7/274.7 kB\u001b[0m \u001b[31m16.2 MB/s\u001b[0m eta \u001b[36m0:00:00\u001b[0m\n",
            "\u001b[?25h"
          ]
        }
      ]
    },
    {
      "cell_type": "code",
      "source": [
        "import trafilatura"
      ],
      "metadata": {
        "id": "TsRc2539iHMR"
      },
      "execution_count": 2,
      "outputs": []
    },
    {
      "cell_type": "code",
      "execution_count": 3,
      "metadata": {
        "id": "h-CR7MtHiCQC"
      },
      "outputs": [],
      "source": [
        "url = \"https://www.pagina12.com.ar/775639-el-futuro-de-la-ia-y-su-impacto-en-el-conocimiento-cambiara-\""
      ]
    },
    {
      "cell_type": "code",
      "source": [
        "downloaded = trafilatura.fetch_url(url)\n",
        "text = trafilatura.extract(downloaded, include_comments=False, include_images=False)\n",
        "print(text)"
      ],
      "metadata": {
        "colab": {
          "base_uri": "https://localhost:8080/"
        },
        "id": "sD053fO9ikeF",
        "outputId": "d481a8d7-f649-4e51-dc3c-65a99b3e1e20"
      },
      "execution_count": 4,
      "outputs": [
        {
          "output_type": "stream",
          "name": "stdout",
          "text": [
            "La inteligencia artificial ya aparece como una herramienta más de la vida cotidiana. Desde su irrupción popular, tan solo dos años atrás con el famoso ChatGPT, este desarrollo creció a un ritmo exponencial y está presente en el celular, en el trabajo, en las aulas y hasta en las galerías de arte. Pero la IA no es una herramienta más. Así lo explica en su último libro, Nexus, el historiador israelí Yuval Noah Harari, donde afirma que si bien no todos pueden ser expertos en inteligencia artificial, sí todos deben tener presente que esta “es la primera tecnología de la historia que puede tomar decisiones y generar nuevas ideas por sí misma”.\n",
            "Harari dice que hasta ahora toda decisión sobre el uso de una herramienta terminaba en el humano. “Los cuchillos y las bombas no deciden por sí mismos a quién matar”, aclara. Pero la IA sí puede avanzar en este tipo de decisiones. Y no hace falta irse a un escenario bélico para verlo: puede decidir, por ejemplo, cuáles son los datos más importantes de un documento a la hora de resumirlo o qué palabras usar para completar un formulario.\n",
            "Parados en este escenario se abre una cascada de preguntas acerca del futuro. Consultados por Página|12, un grupo de especialistas en IA respondió a una de ellas: ¿puede la inteligencia artificial cambiar la forma en que piensan, aprenden y generan nuevo conocimiento los humanos?\n",
            "Que lo responda la IA\n",
            "Carolina Tramallino es profesora adjunta de Lingüística General en la Facultad de Humanidades y Artes de la Universidad Nacional de Rosario e investigadora del Conicet en IRICE. Sus publicaciones se centran en el área de la lingüística computacional y de la inteligencia artificial. Desde allí hizo una serie de artículos donde indaga sobre cómo los estudiantes universitarios usan la IA en sus trayectorias académicas. En una publicación que hizo en la revista TE&ET reveló que un 90% de los estudiantes entrevistados aseguró haber usado el ChatGPT en ambientes educativos para resolver dudas relacionadas con los temas de estudio, estructurar textos, generar ideas, redactar mails o realizar correcciones de redacción.\n",
            "Fernando Juca Maldonado, docente del área de tecnología de la Universidad Metropolitana, sede Machala, de Ecuador, publicó una investigación similar donde reveló que de un total de 247 alumnos encuestados, solo un 12% no estaba familiarizado con la IA. Los propios estudiantes reconocieron que usan esta herramienta para responder cuestionarios (18%), generar ideas (14%), analizar información (14%), resumir contenidos (10%) y generar contenido (8%) entre otras funciones.\n",
            "Que la IA está instalada como una herramienta más en aquellos espacios clave de la enseñanza y generación de conocimiento es una realidad. Ahora cabe preguntarse qué consecuencias tendrá a largo plazo.\n",
            "La IA y las tareas cognitivas\n",
            "“La tecnología, por lo menos desde la revolución industrial, siempre reemplazó trabajo humano. Durante mucho tiempo lo que reemplazaba la tecnología, incluida la máquina de vapor, era el trabajo físico, la energía humana”, explicó Mariano Zukerfeld, doctor en Ciencias Sociales, investigador del Conicet y parte del Equipo de Estudios sobre Tecnología, Capitalismo y Sociedad.\n",
            "El escenario cambió con la irrupción del capitalismo digital, que tuvo una primera etapa que fue desde mediados de 1970 hasta 2010 y una segunda etapa desde entonces caracterizada por las plataformas y la IA. “En la primera fase se empezaron a reemplazar tareas cognitivas rutinarias, por ejemplo, lo que hace un procesador de texto o una planilla de cálculo. Lo mismo respecto de aquellas tareas manuales rutinarias: la robótica empezó a reemplazar tareas físicas”.\n",
            "“Lo novedoso desde 2005 es que se empezaron a reemplazar tareas cognitivas no rutinarias. Estas son, por ejemplo, las tareas creativas, que se consideraban reservadas para los humanos porque tenían un carácter de innovación, algo que era de creación. Esas tareas empezaron a ser realizadas de manera silenciosa, opinable, pero ya ahora de forma muy visible y asumida por algoritmos”, explicó.\n",
            "Un ejemplo claro de esto está asociado con una noticia de los últimos días: el robot Ai-Da, un humanoide dotado de inteligencia artificial, caracterizado con un cuerpo humano y brazos mecánicos, realizó una obra que será subastada el próximo 31 de octubre con un precio base de 130.000 dólares.\n",
            "La coevolución del pensamiento\n",
            "Por su lado, Ricardo Andrade, licenciado en Letras, filósofo de la tecnología y becario del Conicet, explicó a este diario que efectivamente la irrupción de la IA implica un “gran reto a nivel educativo y en relación con problemas filosóficos y sociológicos”. Sin embargo, consideró que este reemplazo no tiene por qué ser necesariamente algo negativo.\n",
            "“No hablaría directamente de una pérdida de creatividad. Habrá más bien un cambio en términos de coevolución. ¿Por qué? Porque a medida que la inteligencia artificial se perfeccione, puede proporcionarnos herramientas para explorar con mayor detalle conocimientos y procesar información que, sin su ayuda, sería muy difícil avanzar”, sostuvo.\n",
            "Y añadió: “Sería importante apropiarse de esta conquista tecnológica para pensar en cómo ese procesamiento de información puede ofrecer herramientas para entender y abordar la realidad a través del conocimiento. En este sentido, la tecnología y la inteligencia artificial modificarán nuestros comportamientos y la forma en que generamos conocimientos, ya que tendremos que pensar en función de lo que estas herramientas desarrollen. Así, surge la tensión coevolutiva”.\n",
            "Red flags, dudas y desafíos\n",
            "Tramallino consideró, tras estudiar el tema en ámbitos universitarios, que “hay que alfabetizar para brindar herramientas que se relacionen con la selección de la información, con poder discernir la calidad de los datos y que se ejerciten las habilidades de inteligencia lingüística” frente al avance de las herramientas generativas. “El problema es que podemos perder todas las reflexiones meta-lingüísticas que implican activar saberes. Como, por ejemplo, pensar en qué sinónimo puedo elegir para una palabra, realizar todas las asociaciones de sentido y pensar cómo puedo expresar con otras palabras una misma idea”, dijo.\n",
            "“La lectura implica una interacción con el texto. Cuando leo, elaboro un significado que es resultado de una confluencia entre el sujeto, el texto y los factores contextuales. En este caso, no hay sujeto. No hay un enunciador en las respuestas de la IA, no hay un sujeto que se apropie del lenguaje. Carecemos de todo ese contexto de producción”, afirmó sobre el uso de estas herramientas en los ámbitos educativos y alertó sobre la falsa sensación de objetividad que pueden brindar estos programas.\n",
            "Sobre este punto de la objetividad, aclaró: \"Lo peligroso es que se crea el efecto ilusorio de una objetividad. Es un texto que no está atravesado por la lectura propia. Podemos caer en el peligro de creer que la ciencia es simple y objetiva en este afán de querer crear una respuesta. Lo preocupante es que impide tener noción de los diferentes puntos de vista cuando lo más importante es poder generar un pensamiento crítico. Se pierde la capacidad crítica del estudiante que empieza con la gestión de la información, seguida de la comprensión lectora\".\n",
            "Por su lado, Juca Maldonado añadió: “Algunos trataban de aprovecharse del hecho de que generaba todo y no había que hacer esfuerzo, otros para que los ayude a generar ideas. Dentro del ámbito académico sigue siendo un desafío tanto para estudiantes como para docentes cómo implementarla de manera ética sin que te suplante. Porque ese es el riesgo”.\n",
            "Maldonado tomó la idea de Harari y puso la mirada hacia adelante: “La IA es el primer invento autónomo del humano. Ahí está el rol de tratar de aprovechar el uso de la tecnología y que sea una herramienta más para el proceso de aprendizaje. No es usarla para que haga algo por mí. El tema va más allá, porque es un agente autónomo que puede convertirse en un asistente para hacer el día a día mejor”. O peor, se podría pensar. Y de qué depende es aún una pregunta abierta.\n"
          ]
        }
      ]
    },
    {
      "cell_type": "code",
      "metadata": {
        "colab": {
          "base_uri": "https://localhost:8080/",
          "height": 98
        },
        "id": "9f5412d9",
        "outputId": "7bc4b577-4004-4233-ec14-e472ace859fb"
      },
      "source": [
        "import pandas as pd\n",
        "import trafilatura\n",
        "\n",
        "def obtener_texto_articulo(url):\n",
        "    \"\"\"\n",
        "    Obtiene y extrae texto de una URL dada usando trafilatura.\n",
        "\n",
        "    Args:\n",
        "        url (str): La URL del artículo.\n",
        "\n",
        "    Returns:\n",
        "        str: El texto extraído del artículo, o un mensaje de error si la obtención o extracción falla.\n",
        "    \"\"\"\n",
        "    try:\n",
        "        descargado = trafilatura.fetch_url(url)\n",
        "        if descargado:\n",
        "            texto = trafilatura.extract(descargado, include_comments=False, include_images=False)\n",
        "            if texto:\n",
        "                return texto\n",
        "            else:\n",
        "                return \"No se pudo extraer texto de la URL.\"\n",
        "        else:\n",
        "            return \"No se pudo obtener la URL.\"\n",
        "    except Exception as e:\n",
        "        return f\"Ocurrió un error: {e}\"\n",
        "\n",
        "# Lista de URLs para construir el corpus (puedes modificar esta lista)\n",
        "urls = [\n",
        "    \"https://www.pagina12.com.ar/775639-el-futuro-de-la-ia-y-su-impacto-en-el-conocimiento-cambiara-\",\n",
        "    # Agrega más URLs aquí si es necesario\n",
        "]\n",
        "\n",
        "# Crear una lista para almacenar los datos\n",
        "corpus_data = []\n",
        "\n",
        "# Iterar sobre las URLs y extraer el texto\n",
        "for url in urls:\n",
        "    print(f\"Procesando: {url}\")\n",
        "    texto_extraido = obtener_texto_articulo(url)\n",
        "    corpus_data.append({'URL': url, 'Texto': texto_extraido})\n",
        "\n",
        "# Crear el DataFrame de pandas\n",
        "df_corpus = pd.DataFrame(corpus_data)\n",
        "\n",
        "# Mostrar las primeras filas del DataFrame\n",
        "display(df_corpus.head())"
      ],
      "execution_count": 5,
      "outputs": [
        {
          "output_type": "stream",
          "name": "stdout",
          "text": [
            "Procesando: https://www.pagina12.com.ar/775639-el-futuro-de-la-ia-y-su-impacto-en-el-conocimiento-cambiara-\n"
          ]
        },
        {
          "output_type": "display_data",
          "data": {
            "text/plain": [
              "                                                 URL  \\\n",
              "0  https://www.pagina12.com.ar/775639-el-futuro-d...   \n",
              "\n",
              "                                               Texto  \n",
              "0  La inteligencia artificial ya aparece como una...  "
            ],
            "text/html": [
              "\n",
              "  <div id=\"df-6b6cda51-4288-4a9e-9150-2ff1a0ade7cc\" class=\"colab-df-container\">\n",
              "    <div>\n",
              "<style scoped>\n",
              "    .dataframe tbody tr th:only-of-type {\n",
              "        vertical-align: middle;\n",
              "    }\n",
              "\n",
              "    .dataframe tbody tr th {\n",
              "        vertical-align: top;\n",
              "    }\n",
              "\n",
              "    .dataframe thead th {\n",
              "        text-align: right;\n",
              "    }\n",
              "</style>\n",
              "<table border=\"1\" class=\"dataframe\">\n",
              "  <thead>\n",
              "    <tr style=\"text-align: right;\">\n",
              "      <th></th>\n",
              "      <th>URL</th>\n",
              "      <th>Texto</th>\n",
              "    </tr>\n",
              "  </thead>\n",
              "  <tbody>\n",
              "    <tr>\n",
              "      <th>0</th>\n",
              "      <td>https://www.pagina12.com.ar/775639-el-futuro-d...</td>\n",
              "      <td>La inteligencia artificial ya aparece como una...</td>\n",
              "    </tr>\n",
              "  </tbody>\n",
              "</table>\n",
              "</div>\n",
              "    <div class=\"colab-df-buttons\">\n",
              "\n",
              "  <div class=\"colab-df-container\">\n",
              "    <button class=\"colab-df-convert\" onclick=\"convertToInteractive('df-6b6cda51-4288-4a9e-9150-2ff1a0ade7cc')\"\n",
              "            title=\"Convert this dataframe to an interactive table.\"\n",
              "            style=\"display:none;\">\n",
              "\n",
              "  <svg xmlns=\"http://www.w3.org/2000/svg\" height=\"24px\" viewBox=\"0 -960 960 960\">\n",
              "    <path d=\"M120-120v-720h720v720H120Zm60-500h600v-160H180v160Zm220 220h160v-160H400v160Zm0 220h160v-160H400v160ZM180-400h160v-160H180v160Zm440 0h160v-160H620v160ZM180-180h160v-160H180v160Zm440 0h160v-160H620v160Z\"/>\n",
              "  </svg>\n",
              "    </button>\n",
              "\n",
              "  <style>\n",
              "    .colab-df-container {\n",
              "      display:flex;\n",
              "      gap: 12px;\n",
              "    }\n",
              "\n",
              "    .colab-df-convert {\n",
              "      background-color: #E8F0FE;\n",
              "      border: none;\n",
              "      border-radius: 50%;\n",
              "      cursor: pointer;\n",
              "      display: none;\n",
              "      fill: #1967D2;\n",
              "      height: 32px;\n",
              "      padding: 0 0 0 0;\n",
              "      width: 32px;\n",
              "    }\n",
              "\n",
              "    .colab-df-convert:hover {\n",
              "      background-color: #E2EBFA;\n",
              "      box-shadow: 0px 1px 2px rgba(60, 64, 67, 0.3), 0px 1px 3px 1px rgba(60, 64, 67, 0.15);\n",
              "      fill: #174EA6;\n",
              "    }\n",
              "\n",
              "    .colab-df-buttons div {\n",
              "      margin-bottom: 4px;\n",
              "    }\n",
              "\n",
              "    [theme=dark] .colab-df-convert {\n",
              "      background-color: #3B4455;\n",
              "      fill: #D2E3FC;\n",
              "    }\n",
              "\n",
              "    [theme=dark] .colab-df-convert:hover {\n",
              "      background-color: #434B5C;\n",
              "      box-shadow: 0px 1px 3px 1px rgba(0, 0, 0, 0.15);\n",
              "      filter: drop-shadow(0px 1px 2px rgba(0, 0, 0, 0.3));\n",
              "      fill: #FFFFFF;\n",
              "    }\n",
              "  </style>\n",
              "\n",
              "    <script>\n",
              "      const buttonEl =\n",
              "        document.querySelector('#df-6b6cda51-4288-4a9e-9150-2ff1a0ade7cc button.colab-df-convert');\n",
              "      buttonEl.style.display =\n",
              "        google.colab.kernel.accessAllowed ? 'block' : 'none';\n",
              "\n",
              "      async function convertToInteractive(key) {\n",
              "        const element = document.querySelector('#df-6b6cda51-4288-4a9e-9150-2ff1a0ade7cc');\n",
              "        const dataTable =\n",
              "          await google.colab.kernel.invokeFunction('convertToInteractive',\n",
              "                                                    [key], {});\n",
              "        if (!dataTable) return;\n",
              "\n",
              "        const docLinkHtml = 'Like what you see? Visit the ' +\n",
              "          '<a target=\"_blank\" href=https://colab.research.google.com/notebooks/data_table.ipynb>data table notebook</a>'\n",
              "          + ' to learn more about interactive tables.';\n",
              "        element.innerHTML = '';\n",
              "        dataTable['output_type'] = 'display_data';\n",
              "        await google.colab.output.renderOutput(dataTable, element);\n",
              "        const docLink = document.createElement('div');\n",
              "        docLink.innerHTML = docLinkHtml;\n",
              "        element.appendChild(docLink);\n",
              "      }\n",
              "    </script>\n",
              "  </div>\n",
              "\n",
              "\n",
              "    </div>\n",
              "  </div>\n"
            ],
            "application/vnd.google.colaboratory.intrinsic+json": {
              "type": "dataframe",
              "summary": "{\n  \"name\": \"display(df_corpus\",\n  \"rows\": 1,\n  \"fields\": [\n    {\n      \"column\": \"URL\",\n      \"properties\": {\n        \"dtype\": \"string\",\n        \"num_unique_values\": 1,\n        \"samples\": [\n          \"https://www.pagina12.com.ar/775639-el-futuro-de-la-ia-y-su-impacto-en-el-conocimiento-cambiara-\"\n        ],\n        \"semantic_type\": \"\",\n        \"description\": \"\"\n      }\n    },\n    {\n      \"column\": \"Texto\",\n      \"properties\": {\n        \"dtype\": \"string\",\n        \"num_unique_values\": 1,\n        \"samples\": [\n          \"La inteligencia artificial ya aparece como una herramienta m\\u00e1s de la vida cotidiana. Desde su irrupci\\u00f3n popular, tan solo dos a\\u00f1os atr\\u00e1s con el famoso ChatGPT, este desarrollo creci\\u00f3 a un ritmo exponencial y est\\u00e1 presente en el celular, en el trabajo, en las aulas y hasta en las galer\\u00edas de arte. Pero la IA no es una herramienta m\\u00e1s. As\\u00ed lo explica en su \\u00faltimo libro, Nexus, el historiador israel\\u00ed Yuval Noah Harari, donde afirma que si bien no todos pueden ser expertos en inteligencia artificial, s\\u00ed todos deben tener presente que esta \\u201ces la primera tecnolog\\u00eda de la historia que puede tomar decisiones y generar nuevas ideas por s\\u00ed misma\\u201d.\\nHarari dice que hasta ahora toda decisi\\u00f3n sobre el uso de una herramienta terminaba en el humano. \\u201cLos cuchillos y las bombas no deciden por s\\u00ed mismos a qui\\u00e9n matar\\u201d, aclara. Pero la IA s\\u00ed puede avanzar en este tipo de decisiones. Y no hace falta irse a un escenario b\\u00e9lico para verlo: puede decidir, por ejemplo, cu\\u00e1les son los datos m\\u00e1s importantes de un documento a la hora de resumirlo o qu\\u00e9 palabras usar para completar un formulario.\\nParados en este escenario se abre una cascada de preguntas acerca del futuro. Consultados por P\\u00e1gina|12, un grupo de especialistas en IA respondi\\u00f3 a una de ellas: \\u00bfpuede la inteligencia artificial cambiar la forma en que piensan, aprenden y generan nuevo conocimiento los humanos?\\nQue lo responda la IA\\nCarolina Tramallino es profesora adjunta de Ling\\u00fc\\u00edstica General en la Facultad de Humanidades y Artes de la Universidad Nacional de Rosario e investigadora del Conicet en IRICE. Sus publicaciones se centran en el \\u00e1rea de la ling\\u00fc\\u00edstica computacional y de la inteligencia artificial. Desde all\\u00ed hizo una serie de art\\u00edculos donde indaga sobre c\\u00f3mo los estudiantes universitarios usan la IA en sus trayectorias acad\\u00e9micas. En una publicaci\\u00f3n que hizo en la revista TE&ET revel\\u00f3 que un 90% de los estudiantes entrevistados asegur\\u00f3 haber usado el ChatGPT en ambientes educativos para resolver dudas relacionadas con los temas de estudio, estructurar textos, generar ideas, redactar mails o realizar correcciones de redacci\\u00f3n.\\nFernando Juca Maldonado, docente del \\u00e1rea de tecnolog\\u00eda de la Universidad Metropolitana, sede Machala, de Ecuador, public\\u00f3 una investigaci\\u00f3n similar donde revel\\u00f3 que de un total de 247 alumnos encuestados, solo un 12% no estaba familiarizado con la IA. Los propios estudiantes reconocieron que usan esta herramienta para responder cuestionarios (18%), generar ideas (14%), analizar informaci\\u00f3n (14%), resumir contenidos (10%) y generar contenido (8%) entre otras funciones.\\nQue la IA est\\u00e1 instalada como una herramienta m\\u00e1s en aquellos espacios clave de la ense\\u00f1anza y generaci\\u00f3n de conocimiento es una realidad. Ahora cabe preguntarse qu\\u00e9 consecuencias tendr\\u00e1 a largo plazo.\\nLa IA y las tareas cognitivas\\n\\u201cLa tecnolog\\u00eda, por lo menos desde la revoluci\\u00f3n industrial, siempre reemplaz\\u00f3 trabajo humano. Durante mucho tiempo lo que reemplazaba la tecnolog\\u00eda, incluida la m\\u00e1quina de vapor, era el trabajo f\\u00edsico, la energ\\u00eda humana\\u201d, explic\\u00f3 Mariano Zukerfeld, doctor en Ciencias Sociales, investigador del Conicet y parte del Equipo de Estudios sobre Tecnolog\\u00eda, Capitalismo y Sociedad.\\nEl escenario cambi\\u00f3 con la irrupci\\u00f3n del capitalismo digital, que tuvo una primera etapa que fue desde mediados de 1970 hasta 2010 y una segunda etapa desde entonces caracterizada por las plataformas y la IA. \\u201cEn la primera fase se empezaron a reemplazar tareas cognitivas rutinarias, por ejemplo, lo que hace un procesador de texto o una planilla de c\\u00e1lculo. Lo mismo respecto de aquellas tareas manuales rutinarias: la rob\\u00f3tica empez\\u00f3 a reemplazar tareas f\\u00edsicas\\u201d.\\n\\u201cLo novedoso desde 2005 es que se empezaron a reemplazar tareas cognitivas no rutinarias. Estas son, por ejemplo, las tareas creativas, que se consideraban reservadas para los humanos porque ten\\u00edan un car\\u00e1cter de innovaci\\u00f3n, algo que era de creaci\\u00f3n. Esas tareas empezaron a ser realizadas de manera silenciosa, opinable, pero ya ahora de forma muy visible y asumida por algoritmos\\u201d, explic\\u00f3.\\nUn ejemplo claro de esto est\\u00e1 asociado con una noticia de los \\u00faltimos d\\u00edas: el robot Ai-Da, un humanoide dotado de inteligencia artificial, caracterizado con un cuerpo humano y brazos mec\\u00e1nicos, realiz\\u00f3 una obra que ser\\u00e1 subastada el pr\\u00f3ximo 31 de octubre con un precio base de 130.000 d\\u00f3lares.\\nLa coevoluci\\u00f3n del pensamiento\\nPor su lado, Ricardo Andrade, licenciado en Letras, fil\\u00f3sofo de la tecnolog\\u00eda y becario del Conicet, explic\\u00f3 a este diario que efectivamente la irrupci\\u00f3n de la IA implica un \\u201cgran reto a nivel educativo y en relaci\\u00f3n con problemas filos\\u00f3ficos y sociol\\u00f3gicos\\u201d. Sin embargo, consider\\u00f3 que este reemplazo no tiene por qu\\u00e9 ser necesariamente algo negativo.\\n\\u201cNo hablar\\u00eda directamente de una p\\u00e9rdida de creatividad. Habr\\u00e1 m\\u00e1s bien un cambio en t\\u00e9rminos de coevoluci\\u00f3n. \\u00bfPor qu\\u00e9? Porque a medida que la inteligencia artificial se perfeccione, puede proporcionarnos herramientas para explorar con mayor detalle conocimientos y procesar informaci\\u00f3n que, sin su ayuda, ser\\u00eda muy dif\\u00edcil avanzar\\u201d, sostuvo.\\nY a\\u00f1adi\\u00f3: \\u201cSer\\u00eda importante apropiarse de esta conquista tecnol\\u00f3gica para pensar en c\\u00f3mo ese procesamiento de informaci\\u00f3n puede ofrecer herramientas para entender y abordar la realidad a trav\\u00e9s del conocimiento. En este sentido, la tecnolog\\u00eda y la inteligencia artificial modificar\\u00e1n nuestros comportamientos y la forma en que generamos conocimientos, ya que tendremos que pensar en funci\\u00f3n de lo que estas herramientas desarrollen. As\\u00ed, surge la tensi\\u00f3n coevolutiva\\u201d.\\nRed flags, dudas y desaf\\u00edos\\nTramallino consider\\u00f3, tras estudiar el tema en \\u00e1mbitos universitarios, que \\u201chay que alfabetizar para brindar herramientas que se relacionen con la selecci\\u00f3n de la informaci\\u00f3n, con poder discernir la calidad de los datos y que se ejerciten las habilidades de inteligencia ling\\u00fc\\u00edstica\\u201d frente al avance de las herramientas generativas. \\u201cEl problema es que podemos perder todas las reflexiones meta-ling\\u00fc\\u00edsticas que implican activar saberes. Como, por ejemplo, pensar en qu\\u00e9 sin\\u00f3nimo puedo elegir para una palabra, realizar todas las asociaciones de sentido y pensar c\\u00f3mo puedo expresar con otras palabras una misma idea\\u201d, dijo.\\n\\u201cLa lectura implica una interacci\\u00f3n con el texto. Cuando leo, elaboro un significado que es resultado de una confluencia entre el sujeto, el texto y los factores contextuales. En este caso, no hay sujeto. No hay un enunciador en las respuestas de la IA, no hay un sujeto que se apropie del lenguaje. Carecemos de todo ese contexto de producci\\u00f3n\\u201d, afirm\\u00f3 sobre el uso de estas herramientas en los \\u00e1mbitos educativos y alert\\u00f3 sobre la falsa sensaci\\u00f3n de objetividad que pueden brindar estos programas.\\nSobre este punto de la objetividad, aclar\\u00f3: \\\"Lo peligroso es que se crea el efecto ilusorio de una objetividad. Es un texto que no est\\u00e1 atravesado por la lectura propia. Podemos caer en el peligro de creer que la ciencia es simple y objetiva en este af\\u00e1n de querer crear una respuesta. Lo preocupante es que impide tener noci\\u00f3n de los diferentes puntos de vista cuando lo m\\u00e1s importante es poder generar un pensamiento cr\\u00edtico. Se pierde la capacidad cr\\u00edtica del estudiante que empieza con la gesti\\u00f3n de la informaci\\u00f3n, seguida de la comprensi\\u00f3n lectora\\\".\\nPor su lado, Juca Maldonado a\\u00f1adi\\u00f3: \\u201cAlgunos trataban de aprovecharse del hecho de que generaba todo y no hab\\u00eda que hacer esfuerzo, otros para que los ayude a generar ideas. Dentro del \\u00e1mbito acad\\u00e9mico sigue siendo un desaf\\u00edo tanto para estudiantes como para docentes c\\u00f3mo implementarla de manera \\u00e9tica sin que te suplante. Porque ese es el riesgo\\u201d.\\nMaldonado tom\\u00f3 la idea de Harari y puso la mirada hacia adelante: \\u201cLa IA es el primer invento aut\\u00f3nomo del humano. Ah\\u00ed est\\u00e1 el rol de tratar de aprovechar el uso de la tecnolog\\u00eda y que sea una herramienta m\\u00e1s para el proceso de aprendizaje. No es usarla para que haga algo por m\\u00ed. El tema va m\\u00e1s all\\u00e1, porque es un agente aut\\u00f3nomo que puede convertirse en un asistente para hacer el d\\u00eda a d\\u00eda mejor\\u201d. O peor, se podr\\u00eda pensar. Y de qu\\u00e9 depende es a\\u00fan una pregunta abierta.\"\n        ],\n        \"semantic_type\": \"\",\n        \"description\": \"\"\n      }\n    }\n  ]\n}"
            }
          },
          "metadata": {}
        }
      ]
    },
    {
      "cell_type": "code",
      "metadata": {
        "colab": {
          "base_uri": "https://localhost:8080/"
        },
        "id": "8f6e7378",
        "outputId": "7271a646-ac60-4439-f614-00d7998fe0aa"
      },
      "source": [
        "# Iterar sobre las filas del DataFrame e imprimir el texto completo\n",
        "for index, row in df_corpus.iterrows():\n",
        "    print(f\"--- Texto del artículo de la URL: {row['URL']} ---\")\n",
        "    print(row['Texto'])\n",
        "    print(\"-\" * 30) # Separador entre artículos"
      ],
      "execution_count": 6,
      "outputs": [
        {
          "output_type": "stream",
          "name": "stdout",
          "text": [
            "--- Texto del artículo de la URL: https://www.pagina12.com.ar/775639-el-futuro-de-la-ia-y-su-impacto-en-el-conocimiento-cambiara- ---\n",
            "La inteligencia artificial ya aparece como una herramienta más de la vida cotidiana. Desde su irrupción popular, tan solo dos años atrás con el famoso ChatGPT, este desarrollo creció a un ritmo exponencial y está presente en el celular, en el trabajo, en las aulas y hasta en las galerías de arte. Pero la IA no es una herramienta más. Así lo explica en su último libro, Nexus, el historiador israelí Yuval Noah Harari, donde afirma que si bien no todos pueden ser expertos en inteligencia artificial, sí todos deben tener presente que esta “es la primera tecnología de la historia que puede tomar decisiones y generar nuevas ideas por sí misma”.\n",
            "Harari dice que hasta ahora toda decisión sobre el uso de una herramienta terminaba en el humano. “Los cuchillos y las bombas no deciden por sí mismos a quién matar”, aclara. Pero la IA sí puede avanzar en este tipo de decisiones. Y no hace falta irse a un escenario bélico para verlo: puede decidir, por ejemplo, cuáles son los datos más importantes de un documento a la hora de resumirlo o qué palabras usar para completar un formulario.\n",
            "Parados en este escenario se abre una cascada de preguntas acerca del futuro. Consultados por Página|12, un grupo de especialistas en IA respondió a una de ellas: ¿puede la inteligencia artificial cambiar la forma en que piensan, aprenden y generan nuevo conocimiento los humanos?\n",
            "Que lo responda la IA\n",
            "Carolina Tramallino es profesora adjunta de Lingüística General en la Facultad de Humanidades y Artes de la Universidad Nacional de Rosario e investigadora del Conicet en IRICE. Sus publicaciones se centran en el área de la lingüística computacional y de la inteligencia artificial. Desde allí hizo una serie de artículos donde indaga sobre cómo los estudiantes universitarios usan la IA en sus trayectorias académicas. En una publicación que hizo en la revista TE&ET reveló que un 90% de los estudiantes entrevistados aseguró haber usado el ChatGPT en ambientes educativos para resolver dudas relacionadas con los temas de estudio, estructurar textos, generar ideas, redactar mails o realizar correcciones de redacción.\n",
            "Fernando Juca Maldonado, docente del área de tecnología de la Universidad Metropolitana, sede Machala, de Ecuador, publicó una investigación similar donde reveló que de un total de 247 alumnos encuestados, solo un 12% no estaba familiarizado con la IA. Los propios estudiantes reconocieron que usan esta herramienta para responder cuestionarios (18%), generar ideas (14%), analizar información (14%), resumir contenidos (10%) y generar contenido (8%) entre otras funciones.\n",
            "Que la IA está instalada como una herramienta más en aquellos espacios clave de la enseñanza y generación de conocimiento es una realidad. Ahora cabe preguntarse qué consecuencias tendrá a largo plazo.\n",
            "La IA y las tareas cognitivas\n",
            "“La tecnología, por lo menos desde la revolución industrial, siempre reemplazó trabajo humano. Durante mucho tiempo lo que reemplazaba la tecnología, incluida la máquina de vapor, era el trabajo físico, la energía humana”, explicó Mariano Zukerfeld, doctor en Ciencias Sociales, investigador del Conicet y parte del Equipo de Estudios sobre Tecnología, Capitalismo y Sociedad.\n",
            "El escenario cambió con la irrupción del capitalismo digital, que tuvo una primera etapa que fue desde mediados de 1970 hasta 2010 y una segunda etapa desde entonces caracterizada por las plataformas y la IA. “En la primera fase se empezaron a reemplazar tareas cognitivas rutinarias, por ejemplo, lo que hace un procesador de texto o una planilla de cálculo. Lo mismo respecto de aquellas tareas manuales rutinarias: la robótica empezó a reemplazar tareas físicas”.\n",
            "“Lo novedoso desde 2005 es que se empezaron a reemplazar tareas cognitivas no rutinarias. Estas son, por ejemplo, las tareas creativas, que se consideraban reservadas para los humanos porque tenían un carácter de innovación, algo que era de creación. Esas tareas empezaron a ser realizadas de manera silenciosa, opinable, pero ya ahora de forma muy visible y asumida por algoritmos”, explicó.\n",
            "Un ejemplo claro de esto está asociado con una noticia de los últimos días: el robot Ai-Da, un humanoide dotado de inteligencia artificial, caracterizado con un cuerpo humano y brazos mecánicos, realizó una obra que será subastada el próximo 31 de octubre con un precio base de 130.000 dólares.\n",
            "La coevolución del pensamiento\n",
            "Por su lado, Ricardo Andrade, licenciado en Letras, filósofo de la tecnología y becario del Conicet, explicó a este diario que efectivamente la irrupción de la IA implica un “gran reto a nivel educativo y en relación con problemas filosóficos y sociológicos”. Sin embargo, consideró que este reemplazo no tiene por qué ser necesariamente algo negativo.\n",
            "“No hablaría directamente de una pérdida de creatividad. Habrá más bien un cambio en términos de coevolución. ¿Por qué? Porque a medida que la inteligencia artificial se perfeccione, puede proporcionarnos herramientas para explorar con mayor detalle conocimientos y procesar información que, sin su ayuda, sería muy difícil avanzar”, sostuvo.\n",
            "Y añadió: “Sería importante apropiarse de esta conquista tecnológica para pensar en cómo ese procesamiento de información puede ofrecer herramientas para entender y abordar la realidad a través del conocimiento. En este sentido, la tecnología y la inteligencia artificial modificarán nuestros comportamientos y la forma en que generamos conocimientos, ya que tendremos que pensar en función de lo que estas herramientas desarrollen. Así, surge la tensión coevolutiva”.\n",
            "Red flags, dudas y desafíos\n",
            "Tramallino consideró, tras estudiar el tema en ámbitos universitarios, que “hay que alfabetizar para brindar herramientas que se relacionen con la selección de la información, con poder discernir la calidad de los datos y que se ejerciten las habilidades de inteligencia lingüística” frente al avance de las herramientas generativas. “El problema es que podemos perder todas las reflexiones meta-lingüísticas que implican activar saberes. Como, por ejemplo, pensar en qué sinónimo puedo elegir para una palabra, realizar todas las asociaciones de sentido y pensar cómo puedo expresar con otras palabras una misma idea”, dijo.\n",
            "“La lectura implica una interacción con el texto. Cuando leo, elaboro un significado que es resultado de una confluencia entre el sujeto, el texto y los factores contextuales. En este caso, no hay sujeto. No hay un enunciador en las respuestas de la IA, no hay un sujeto que se apropie del lenguaje. Carecemos de todo ese contexto de producción”, afirmó sobre el uso de estas herramientas en los ámbitos educativos y alertó sobre la falsa sensación de objetividad que pueden brindar estos programas.\n",
            "Sobre este punto de la objetividad, aclaró: \"Lo peligroso es que se crea el efecto ilusorio de una objetividad. Es un texto que no está atravesado por la lectura propia. Podemos caer en el peligro de creer que la ciencia es simple y objetiva en este afán de querer crear una respuesta. Lo preocupante es que impide tener noción de los diferentes puntos de vista cuando lo más importante es poder generar un pensamiento crítico. Se pierde la capacidad crítica del estudiante que empieza con la gestión de la información, seguida de la comprensión lectora\".\n",
            "Por su lado, Juca Maldonado añadió: “Algunos trataban de aprovecharse del hecho de que generaba todo y no había que hacer esfuerzo, otros para que los ayude a generar ideas. Dentro del ámbito académico sigue siendo un desafío tanto para estudiantes como para docentes cómo implementarla de manera ética sin que te suplante. Porque ese es el riesgo”.\n",
            "Maldonado tomó la idea de Harari y puso la mirada hacia adelante: “La IA es el primer invento autónomo del humano. Ahí está el rol de tratar de aprovechar el uso de la tecnología y que sea una herramienta más para el proceso de aprendizaje. No es usarla para que haga algo por mí. El tema va más allá, porque es un agente autónomo que puede convertirse en un asistente para hacer el día a día mejor”. O peor, se podría pensar. Y de qué depende es aún una pregunta abierta.\n",
            "------------------------------\n"
          ]
        }
      ]
    },
    {
      "cell_type": "code",
      "source": [
        "# También podes acceder al texto de un artículo específico por su índice\n",
        "# Por ejemplo, para el primer artículo (índice 0):\n",
        "print(df_corpus.loc[0, 'Texto'])"
      ],
      "metadata": {
        "colab": {
          "base_uri": "https://localhost:8080/"
        },
        "id": "K-fDxmByNj3g",
        "outputId": "980a6a90-c70b-4eb0-a620-4535b3e57678"
      },
      "execution_count": 7,
      "outputs": [
        {
          "output_type": "stream",
          "name": "stdout",
          "text": [
            "La inteligencia artificial ya aparece como una herramienta más de la vida cotidiana. Desde su irrupción popular, tan solo dos años atrás con el famoso ChatGPT, este desarrollo creció a un ritmo exponencial y está presente en el celular, en el trabajo, en las aulas y hasta en las galerías de arte. Pero la IA no es una herramienta más. Así lo explica en su último libro, Nexus, el historiador israelí Yuval Noah Harari, donde afirma que si bien no todos pueden ser expertos en inteligencia artificial, sí todos deben tener presente que esta “es la primera tecnología de la historia que puede tomar decisiones y generar nuevas ideas por sí misma”.\n",
            "Harari dice que hasta ahora toda decisión sobre el uso de una herramienta terminaba en el humano. “Los cuchillos y las bombas no deciden por sí mismos a quién matar”, aclara. Pero la IA sí puede avanzar en este tipo de decisiones. Y no hace falta irse a un escenario bélico para verlo: puede decidir, por ejemplo, cuáles son los datos más importantes de un documento a la hora de resumirlo o qué palabras usar para completar un formulario.\n",
            "Parados en este escenario se abre una cascada de preguntas acerca del futuro. Consultados por Página|12, un grupo de especialistas en IA respondió a una de ellas: ¿puede la inteligencia artificial cambiar la forma en que piensan, aprenden y generan nuevo conocimiento los humanos?\n",
            "Que lo responda la IA\n",
            "Carolina Tramallino es profesora adjunta de Lingüística General en la Facultad de Humanidades y Artes de la Universidad Nacional de Rosario e investigadora del Conicet en IRICE. Sus publicaciones se centran en el área de la lingüística computacional y de la inteligencia artificial. Desde allí hizo una serie de artículos donde indaga sobre cómo los estudiantes universitarios usan la IA en sus trayectorias académicas. En una publicación que hizo en la revista TE&ET reveló que un 90% de los estudiantes entrevistados aseguró haber usado el ChatGPT en ambientes educativos para resolver dudas relacionadas con los temas de estudio, estructurar textos, generar ideas, redactar mails o realizar correcciones de redacción.\n",
            "Fernando Juca Maldonado, docente del área de tecnología de la Universidad Metropolitana, sede Machala, de Ecuador, publicó una investigación similar donde reveló que de un total de 247 alumnos encuestados, solo un 12% no estaba familiarizado con la IA. Los propios estudiantes reconocieron que usan esta herramienta para responder cuestionarios (18%), generar ideas (14%), analizar información (14%), resumir contenidos (10%) y generar contenido (8%) entre otras funciones.\n",
            "Que la IA está instalada como una herramienta más en aquellos espacios clave de la enseñanza y generación de conocimiento es una realidad. Ahora cabe preguntarse qué consecuencias tendrá a largo plazo.\n",
            "La IA y las tareas cognitivas\n",
            "“La tecnología, por lo menos desde la revolución industrial, siempre reemplazó trabajo humano. Durante mucho tiempo lo que reemplazaba la tecnología, incluida la máquina de vapor, era el trabajo físico, la energía humana”, explicó Mariano Zukerfeld, doctor en Ciencias Sociales, investigador del Conicet y parte del Equipo de Estudios sobre Tecnología, Capitalismo y Sociedad.\n",
            "El escenario cambió con la irrupción del capitalismo digital, que tuvo una primera etapa que fue desde mediados de 1970 hasta 2010 y una segunda etapa desde entonces caracterizada por las plataformas y la IA. “En la primera fase se empezaron a reemplazar tareas cognitivas rutinarias, por ejemplo, lo que hace un procesador de texto o una planilla de cálculo. Lo mismo respecto de aquellas tareas manuales rutinarias: la robótica empezó a reemplazar tareas físicas”.\n",
            "“Lo novedoso desde 2005 es que se empezaron a reemplazar tareas cognitivas no rutinarias. Estas son, por ejemplo, las tareas creativas, que se consideraban reservadas para los humanos porque tenían un carácter de innovación, algo que era de creación. Esas tareas empezaron a ser realizadas de manera silenciosa, opinable, pero ya ahora de forma muy visible y asumida por algoritmos”, explicó.\n",
            "Un ejemplo claro de esto está asociado con una noticia de los últimos días: el robot Ai-Da, un humanoide dotado de inteligencia artificial, caracterizado con un cuerpo humano y brazos mecánicos, realizó una obra que será subastada el próximo 31 de octubre con un precio base de 130.000 dólares.\n",
            "La coevolución del pensamiento\n",
            "Por su lado, Ricardo Andrade, licenciado en Letras, filósofo de la tecnología y becario del Conicet, explicó a este diario que efectivamente la irrupción de la IA implica un “gran reto a nivel educativo y en relación con problemas filosóficos y sociológicos”. Sin embargo, consideró que este reemplazo no tiene por qué ser necesariamente algo negativo.\n",
            "“No hablaría directamente de una pérdida de creatividad. Habrá más bien un cambio en términos de coevolución. ¿Por qué? Porque a medida que la inteligencia artificial se perfeccione, puede proporcionarnos herramientas para explorar con mayor detalle conocimientos y procesar información que, sin su ayuda, sería muy difícil avanzar”, sostuvo.\n",
            "Y añadió: “Sería importante apropiarse de esta conquista tecnológica para pensar en cómo ese procesamiento de información puede ofrecer herramientas para entender y abordar la realidad a través del conocimiento. En este sentido, la tecnología y la inteligencia artificial modificarán nuestros comportamientos y la forma en que generamos conocimientos, ya que tendremos que pensar en función de lo que estas herramientas desarrollen. Así, surge la tensión coevolutiva”.\n",
            "Red flags, dudas y desafíos\n",
            "Tramallino consideró, tras estudiar el tema en ámbitos universitarios, que “hay que alfabetizar para brindar herramientas que se relacionen con la selección de la información, con poder discernir la calidad de los datos y que se ejerciten las habilidades de inteligencia lingüística” frente al avance de las herramientas generativas. “El problema es que podemos perder todas las reflexiones meta-lingüísticas que implican activar saberes. Como, por ejemplo, pensar en qué sinónimo puedo elegir para una palabra, realizar todas las asociaciones de sentido y pensar cómo puedo expresar con otras palabras una misma idea”, dijo.\n",
            "“La lectura implica una interacción con el texto. Cuando leo, elaboro un significado que es resultado de una confluencia entre el sujeto, el texto y los factores contextuales. En este caso, no hay sujeto. No hay un enunciador en las respuestas de la IA, no hay un sujeto que se apropie del lenguaje. Carecemos de todo ese contexto de producción”, afirmó sobre el uso de estas herramientas en los ámbitos educativos y alertó sobre la falsa sensación de objetividad que pueden brindar estos programas.\n",
            "Sobre este punto de la objetividad, aclaró: \"Lo peligroso es que se crea el efecto ilusorio de una objetividad. Es un texto que no está atravesado por la lectura propia. Podemos caer en el peligro de creer que la ciencia es simple y objetiva en este afán de querer crear una respuesta. Lo preocupante es que impide tener noción de los diferentes puntos de vista cuando lo más importante es poder generar un pensamiento crítico. Se pierde la capacidad crítica del estudiante que empieza con la gestión de la información, seguida de la comprensión lectora\".\n",
            "Por su lado, Juca Maldonado añadió: “Algunos trataban de aprovecharse del hecho de que generaba todo y no había que hacer esfuerzo, otros para que los ayude a generar ideas. Dentro del ámbito académico sigue siendo un desafío tanto para estudiantes como para docentes cómo implementarla de manera ética sin que te suplante. Porque ese es el riesgo”.\n",
            "Maldonado tomó la idea de Harari y puso la mirada hacia adelante: “La IA es el primer invento autónomo del humano. Ahí está el rol de tratar de aprovechar el uso de la tecnología y que sea una herramienta más para el proceso de aprendizaje. No es usarla para que haga algo por mí. El tema va más allá, porque es un agente autónomo que puede convertirse en un asistente para hacer el día a día mejor”. O peor, se podría pensar. Y de qué depende es aún una pregunta abierta.\n"
          ]
        }
      ]
    }
  ]
}